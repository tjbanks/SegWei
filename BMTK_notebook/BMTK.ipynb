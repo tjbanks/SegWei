{
 "cells": [
  {
   "cell_type": "code",
   "execution_count": 1,
   "metadata": {},
   "outputs": [],
   "source": [
    "from bmtk.builder.networks import NetworkBuilder\n",
    "from bmtk.utils.sim_setup import build_env_bionet\n",
    "import json\n",
    "from edit_genome import process_json\n",
    "from bmtk.simulator import bionet\n",
    "from bmtk.analyzer.spike_trains import to_dataframe\n",
    "from bmtk.analyzer.cell_vars import plot_report\n",
    "import os\n",
    "import shutil\n",
    "from neuron import h\n",
    "import ipywidgets as widgets\n",
    "from ipywidgets import HBox,VBox,Label,Layout\n",
    "from IPython.display import display\n",
    "from IPython.display import clear_output\n",
    "%matplotlib inline"
   ]
  },
  {
   "cell_type": "code",
   "execution_count": 2,
   "metadata": {},
   "outputs": [],
   "source": [
    "net = NetworkBuilder('BL')\n",
    "net.add_nodes(cell_name='BL',\n",
    "          potental='exc',\n",
    "          model_type='biophysical',\n",
    "          model_template='ctdb:Biophys1.hoc',\n",
    "          model_processing='aibs_allactive',\n",
    "          dynamics_params='BL_fit.json',\n",
    "          morphology='reconstruction.swc')\n",
    "shutil.rmtree('./network')\n",
    "net.build()\n",
    "net.save_nodes(output_dir='network')\n",
    "build_env_bionet(network_dir='network', tstop=2000.0, dt=0.1,\n",
    "                 report_vars=['v']\n",
    "                )\n",
    "\n",
    "shutil.copy('sources/BL_fit.json','components/biophysical_neuron_models/')\n",
    "shutil.copy('sources/neuronal_model_491766131/reconstruction.swc','components/morphologies/')\n",
    "shutil.rmtree('components/mechanisms/')\n",
    "shutil.copytree('sources/modfiles','components/mechanisms/modfiles')\n",
    "shutil.copytree('sources/x86_64','components/mechanisms/x86_64')\n",
    "\n",
    "with open(\"./simulation_config.json\",'r') as load_f:\n",
    "        load_dict = json.load(load_f)\n",
    "        #print(load_dict)\n",
    "        load_dict['inputs'] =  {\"current_clamp1\": {\n",
    "        \"input_type\": \"current_clamp\",\n",
    "        \"module\": \"IClamp\",\n",
    "        \"node_set\": \"all\",\n",
    "        \"amp\": 0.3,\n",
    "        \"delay\": 300.0,\n",
    "        \"duration\": 1000.0\n",
    "        }\n",
    "        }\n",
    "with open(\"./simulation_config.json\",'w') as dump_f:\n",
    "    json.dump(load_dict,dump_f)\n"
   ]
  },
  {
   "cell_type": "code",
   "execution_count": 3,
   "metadata": {},
   "outputs": [],
   "source": [
    "filePath = './sources/modfiles'\n",
    "a = os.listdir(filePath)\n",
    "\n",
    "w_0 = widgets.Checkbox(value=False,description=a[2],disabled=False)\n",
    "w_1 = widgets.Checkbox(value=False,description=a[18],disabled=False)\n",
    "w_2 = widgets.Checkbox(value=False,description=a[12],disabled=False)\n",
    "\n",
    "def update_0(*args):\n",
    "    if w_0.value:\n",
    "        text0 = widgets.FloatText(\n",
    "            value=0.00095782168667023497,\n",
    "            description='NaP:',\n",
    "            min=0,\n",
    "            max=0.01,\n",
    "            step=0.00005,\n",
    "            disabled=False\n",
    "        )\n",
    "        value0 = text0.value\n",
    "        process_json('./components/biophysical_neuron_models/BL_fit.json','Nap',value0)\n",
    "        display(text0)\n",
    "def update_1(*args):\n",
    "    if w_1.value:\n",
    "        text1 = widgets.FloatText(\n",
    "            value=0.00045041730360183556,\n",
    "            description='Ih:',\n",
    "            min=0,\n",
    "            max=0.01,\n",
    "            step=0.00005,\n",
    "            disabled=False\n",
    "        )\n",
    "        value1 = text1.value\n",
    "        process_json('./components/biophysical_neuron_models/BL_fit.json','Ih',value1)\n",
    "        display(text1)        \n",
    "def update_2(*args):\n",
    "    if w_2.value:\n",
    "        text2 = widgets.FloatText(\n",
    "            value=0.00011215709095308002,\n",
    "            description='Im:',\n",
    "            min=0,\n",
    "            max=0.01,\n",
    "            step=0.00005,\n",
    "            disabled=False\n",
    "        )\n",
    "        value2 = text2.value\n",
    "        process_json('./components/biophysical_neuron_models/BL_fit.json','Im',value2)\n",
    "        display(text2)              \n",
    "        \n",
    "w_0.observe(update_0,'value')\n",
    "w_1.observe(update_1,'value')\n",
    "w_2.observe(update_2,'value')\n",
    "ui1 = HBox([VBox([Label('Channels')],layout=Layout(width='10%')),VBox([w_0,w_1,w_2],layout=Layout(width='38%'))])\n"
   ]
  },
  {
   "cell_type": "code",
   "execution_count": 4,
   "metadata": {},
   "outputs": [],
   "source": [
    "conf = bionet.Config.from_json('simulation_config.json')\n",
    "conf.build_env()\n",
    "net = bionet.BioNetwork.from_config(conf)\n",
    "sim = bionet.BioSimulator.from_config(conf, network=net)\n",
    "\n",
    "pc = h.ParallelContext()\n",
    "hcell = pc.gid2cell(0)\n",
    "clear_output()"
   ]
  },
  {
   "cell_type": "code",
   "execution_count": 5,
   "metadata": {
    "scrolled": true
   },
   "outputs": [
    {
     "data": {
      "application/vnd.jupyter.widget-view+json": {
       "model_id": "3f493ae3b84f45f28fbbc8df662dfe7a",
       "version_major": 2,
       "version_minor": 0
      },
      "text/plain": [
       "HBox(children=(VBox(children=(Label(value='Vhalf&slope'),), layout=Layout(width='10%')), VBox(children=(FloatT…"
      ]
     },
     "metadata": {},
     "output_type": "display_data"
    }
   ],
   "source": [
    "FloatText1 = widgets.FloatText(\n",
    "    value=-38.43,\n",
    "    description='Vhalf_m:',\n",
    "    disabled=False\n",
    ")\n",
    "FloatText2 = widgets.FloatText(\n",
    "    value=-52.7,\n",
    "    description='Vhalf_n:',\n",
    "    disabled=False\n",
    ")\n",
    "FloatText4 = widgets.FloatText(\n",
    "    value=7.2,\n",
    "    description='K_m:',\n",
    "    disabled=False\n",
    ")\n",
    "\n",
    "\n",
    "FloatText5 = widgets.FloatText(\n",
    "    value=10.34,\n",
    "    description='K_n:',\n",
    "    disabled=False\n",
    ")\n",
    "\n",
    "\n",
    "ui2 = HBox([VBox([Label('Vhalf&slope')],layout=Layout(width='10%')),VBox([FloatText1,FloatText2,FloatText4,FloatText5],layout=Layout(width='38%'))])\n",
    "ui2\n",
    "\n",
    "\n"
   ]
  },
  {
   "cell_type": "code",
   "execution_count": 7,
   "metadata": {},
   "outputs": [],
   "source": [
    "hcell.soma[0].mhalf_Nap = FloatText1.value\n",
    "hcell.soma[0].vhalf_im  = FloatText2.value\n",
    "hcell.soma[0].slope1_Nap = FloatText4.value\n",
    "hcell.soma[0].k_im = FloatText5.value"
   ]
  },
  {
   "cell_type": "code",
   "execution_count": 8,
   "metadata": {},
   "outputs": [],
   "source": [
    "sim.run()\n",
    "clear_output()"
   ]
  },
  {
   "cell_type": "code",
   "execution_count": 9,
   "metadata": {},
   "outputs": [
    {
     "data": {
      "image/png": "[encoded data removed]",
      "text/plain": [
       "<Figure size 432x288 with 1 Axes>"
      ]
     },
     "metadata": {
      "needs_background": "light"
     },
     "output_type": "display_data"
    }
   ],
   "source": [
    "to_dataframe(config_file='simulation_config.json')\n",
    "plot_report(config_file='simulation_config.json')"
   ]
  },
  {
   "cell_type": "code",
   "execution_count": null,
   "metadata": {},
   "outputs": [],
   "source": []
  }
 ],
 "metadata": {
  "kernelspec": {
   "display_name": "Python 3",
   "language": "python",
   "name": "python3"
  },
  "language_info": {
   "codemirror_mode": {
    "name": "ipython",
    "version": 3
   },
   "file_extension": ".py",
   "mimetype": "text/x-python",
   "name": "python",
   "nbconvert_exporter": "python",
   "pygments_lexer": "ipython3",
   "version": "3.6.7"
  }
 },
 "nbformat": 4,
 "nbformat_minor": 2
}
